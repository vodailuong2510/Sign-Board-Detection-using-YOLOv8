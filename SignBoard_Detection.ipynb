{
  "cells": [
    {
      "cell_type": "code",
      "source": [
        "!pip install ultralytics\n",
        "\n",
        "import os\n",
        "import yaml\n",
        "import shutil\n",
        "import random\n",
        "import ultralytics\n",
        "from tqdm import tqdm\n",
        "from pathlib import Path\n",
        "from ultralytics import YOLO\n",
        "import matplotlib.pyplot as plt\n",
        "from PIL import Image, ImageDraw"
      ],
      "metadata": {
        "id": "8UyzGpBgu5ED"
      },
      "execution_count": null,
      "outputs": []
    },
    {
      "cell_type": "code",
      "execution_count": null,
      "metadata": {
        "colab": {
          "background_save": true
        },
        "id": "wbEDjCRb7pIr"
      },
      "outputs": [],
      "source": [
        "random.seed(22520834)\n",
        "path_data = Path(\"./signboard_dataset/train/images\")\n",
        "list_imgs_path = list(path_data.iterdir())\n",
        "list_imgs_path.sort()\n",
        "\n",
        "imgs_visualize = random.sample(list_imgs_path, 10)\n",
        "\n",
        "for img_path in imgs_visualize:\n",
        "    img = Image.open(img_path)\n",
        "    width, height = img.size\n",
        "    img.resize((200, 400), Image.Resampling.LANCZOS)\n",
        "\n",
        "    label_path = img_path.parent.parent / 'labels' / (img_path.stem + '.txt')\n",
        "\n",
        "    bounding_boxs = open(label_path, \"r\").readlines()\n",
        "    for bbox in bounding_boxs:\n",
        "        x, y, w, h = map(float, bbox.split()[1:])\n",
        "\n",
        "        x_min = x - w / 2\n",
        "        y_min = y - h / 2\n",
        "        x_max = x + w / 2\n",
        "        y_max = y + h / 2\n",
        "\n",
        "        print(img_path, x_min, y_min, x_max, y_max)\n",
        "\n",
        "        img1 = ImageDraw.Draw(img)\n",
        "        img1.rectangle([(int(x_min * width), int(y_min * height)), (int(x_max * width), int(y_max * height))], outline=\"red\", width=5)\n",
        "\n",
        "    display(img)"
      ]
    },
    {
      "cell_type": "code",
      "execution_count": null,
      "metadata": {
        "id": "eGdM8FLVXq0A"
      },
      "outputs": [],
      "source": [
        "os.makedirs('./train/images', exist_ok=True)\n",
        "os.makedirs('./train/labels', exist_ok=True)\n",
        "os.makedirs('./val/images', exist_ok=True)\n",
        "os.makedirs('./val/labels', exist_ok=True)\n",
        "\n",
        "path_data = Path(\"./signboard_dataset/train/images\")\n",
        "list_imgs_path = list(path_data.iterdir())\n",
        "\n",
        "len_val_data = len(list_imgs_path) // 5\n",
        "list_imgs_path_val = random.sample(list_imgs_path, len_val_data)\n",
        "\n",
        "for img_path in list_imgs_path:\n",
        "    if img_path in list_imgs_path_val:\n",
        "        shutil.copy(img_path, './val/images')\n",
        "        label_path = img_path.parent.parent / 'labels1' / (img_path.stem + '.txt')\n",
        "        if label_path.exists():\n",
        "            shutil.copy(label_path, './val/labels')\n",
        "    else:\n",
        "        shutil.copy(img_path, './train/images')\n",
        "        label_path = img_path.parent.parent / 'labels1' / (img_path.stem + '.txt')\n",
        "        if label_path.exists():\n",
        "            shutil.copy(label_path, './train/labels')"
      ]
    },
    {
      "cell_type": "code",
      "execution_count": null,
      "metadata": {
        "collapsed": true,
        "id": "L0biLIWJJzQ4"
      },
      "outputs": [],
      "source": [
        "dataset_info = {\n",
        "    'train': './train',\n",
        "    'val': './val',\n",
        "    'nc': 1,\n",
        "    'names': ['SignBoard'],\n",
        "}\n",
        "\n",
        "yamlfile_path = './dataset_signboard.yaml'\n",
        "\n",
        "with open(yamlfile_path, 'w') as file:\n",
        "    yaml.dump(dataset_info, file, default_flow_style=None)\n",
        "\n",
        "!yolo train model=runs/detect/train13/weights/best.pt \\\n",
        "data=./dataset_signboard.yaml \\\n",
        "epochs=20 \\\n",
        "imgsz=1024 \\\n",
        "batch=8 \\\n",
        "weight_decay=0.4 \\\n",
        "dropout=0.2 \\\n",
        "patience=100 \\\n",
        "crop_fraction=1.0 \\\n",
        "erasing=0.1 \\\n",
        "copy_paste=0.25 \\\n",
        "mixup=0.2 \\\n",
        "mosaic=0.5 \\\n",
        "bgr=0.1 \\\n",
        "perspective=0.0001 \\\n",
        "shear=20\\\n",
        "multi_scale = True \\\n",
        "scale=0.1 \\\n",
        "translate=0.2 \\\n",
        "degrees=30 \\\n",
        "fliplr=0.5 \\\n",
        "flipud=0.1 \\\n",
        "hsv_v=0.8 \\\n",
        "hsv_s=0.8 \\\n",
        "hsv_h=0.8"
      ]
    },
    {
      "cell_type": "code",
      "execution_count": null,
      "metadata": {
        "id": "ZA-5rBJs3-yx"
      },
      "outputs": [],
      "source": [
        "!yolo mode=predict model=/content/07.pt source=\"./test/images\"\n",
        "import glob\n",
        "from IPython.display import Image, display\n",
        "\n",
        "for image_path in glob.glob(f\"./runs/detect/predict/*.jpg\"):\n",
        "  display(Image(filename=image_path, height = 640))\n",
        "  print(\"\\n\")"
      ]
    },
    {
      "cell_type": "code",
      "execution_count": null,
      "metadata": {
        "collapsed": true,
        "id": "9iQpIXgWJ5B9"
      },
      "outputs": [],
      "source": [
        "list_data_test = list(Path(\"./test/images\").iterdir())\n",
        "model = YOLO(\"./model.pt\")\n",
        "\n",
        "if Path(\"./answer.txt\").exists():\n",
        "  os.remove(\"./answer.txt\")\n",
        "\n",
        "answer_path = Path(\"./answer.txt\")\n",
        "answer_path.touch(exist_ok=True)\n",
        "\n",
        "for img_path in tqdm(list_data_test, desc=\"Processing images\"):\n",
        "    result = model([img_path])[0]\n",
        "\n",
        "    boxes = result.boxes\n",
        "    img = Image.open(img_path)\n",
        "    img_draw = ImageDraw.Draw(img)\n",
        "    width, height = img.size\n",
        "\n",
        "    with open(answer_path, \"a\") as file:\n",
        "        for bbox in boxes:\n",
        "            x, y, w, h = map(float, bbox.xywh[0].tolist())\n",
        "            x /= width\n",
        "            y /= height\n",
        "            w /= width\n",
        "            h /= height\n",
        "            print(x, y, w, h)\n",
        "            file.write(f\"{img_path.stem} 0 {x} {y} {w} {h}\\n\")"
      ]
    }
  ],
  "metadata": {
    "accelerator": "GPU",
    "colab": {
      "gpuType": "T4",
      "provenance": []
    },
    "kernelspec": {
      "display_name": "Python 3",
      "name": "python3"
    },
    "language_info": {
      "name": "python"
    }
  },
  "nbformat": 4,
  "nbformat_minor": 0
}
